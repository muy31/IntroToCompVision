{
  "nbformat": 4,
  "nbformat_minor": 0,
  "metadata": {
    "colab": {
      "provenance": []
    },
    "kernelspec": {
      "name": "python3",
      "display_name": "Python 3"
    },
    "language_info": {
      "name": "python"
    }
  },
  "cells": [
    {
      "cell_type": "markdown",
      "source": [
        "**Exercise 1: Working with images**\n",
        "\n",
        "*CPSC 480/580: Computer Vision*\n",
        "\n",
        "*Yale University*\n",
        "\n",
        "*Instructor: Alex Wong*\n",
        "\n",
        "\n",
        "**Prerequisites**:\n",
        "\n",
        "1. Enable Google Colaboratory as an app on your Google Drive account\n",
        "\n",
        "2. Create a new Google Colab notebook, this will also create a \"Colab Notebooks\" directory under \"MyDrive\" i.e.\n",
        "```\n",
        "/content/drive/MyDrive/Colab Notebooks\n",
        "```\n",
        "\n",
        "3. Create the following directory structure in your Google Drive\n",
        "```\n",
        "/content/drive/MyDrive/Colab Notebooks/CPSC 480-580: Computer Vision/Exercises\n",
        "```\n",
        "\n",
        "4. Move the 01_exercise.ipynb into\n",
        "```\n",
        "/content/drive/MyDrive/Colab Notebooks/CPSC 480-580: Computer Vision/Exercises\n",
        "```\n",
        "so that its absolute path is\n",
        "```\n",
        "/content/drive/MyDrive/Colab Notebooks/CPSC 480-580: Computer Vision/Exercises/01_exercise.ipynb\n",
        "```"
      ],
      "metadata": {
        "id": "5CMqnvlhMgVD"
      }
    },
    {
      "cell_type": "markdown",
      "source": [
        "Import packages"
      ],
      "metadata": {
        "id": "wxeZsiCGC0J8"
      }
    },
    {
      "cell_type": "code",
      "execution_count": 1,
      "metadata": {
        "id": "uumvcyiQ-k21"
      },
      "outputs": [],
      "source": [
        "import skimage\n",
        "import matplotlib.pyplot as plt\n",
        "import numpy as np"
      ]
    },
    {
      "cell_type": "markdown",
      "source": [
        "Utility functions for plotting"
      ],
      "metadata": {
        "id": "WG7XkXfgC2ZA"
      }
    },
    {
      "cell_type": "code",
      "source": [
        "def config_plot():\n",
        "    '''\n",
        "    Function to remove axis tickers and box around figure\n",
        "    '''\n",
        "\n",
        "    # TODO: Implement axis tickers and box removal\n",
        "    plt.box(False)\n",
        "    plt.axis(\"off\")"
      ],
      "metadata": {
        "id": "kfdGul9OCxBD"
      },
      "execution_count": 2,
      "outputs": []
    },
    {
      "cell_type": "markdown",
      "source": [
        "Visualize image of coffee"
      ],
      "metadata": {
        "id": "5ljMielQC7Lg"
      }
    },
    {
      "cell_type": "code",
      "source": [
        "# TODO: Load coffee image from skimage\n",
        "image_coffee = skimage.data.coffee()\n",
        "\n",
        "# TODO: Print image shape/dimension\n",
        "print('Shape of coffee image: {}'.format(image_coffee.shape))\n",
        "\n",
        "# TODO: Print min and max value of the image using numpy\n",
        "print('Min and max values of coffee image: {}'.format(\n",
        "    (np.min(image_coffee), np.max(image_coffee))))\n",
        "\n",
        "# TODO: Create visualization of coffee image with figure size of 8x8\n",
        "fig = plt.figure(figsize = (9, 9))\n",
        "\n",
        "ax = fig.add_subplot(1, 1, 1) #\n",
        "ax.imshow(image_coffee)\n",
        "\n",
        "plt.show()"
      ],
      "metadata": {
        "id": "6wlWiioqDBkG"
      },
      "execution_count": null,
      "outputs": []
    },
    {
      "cell_type": "markdown",
      "source": [
        "Visualize image of text without axis tickers"
      ],
      "metadata": {
        "id": "v01ndhtiEoWh"
      }
    },
    {
      "cell_type": "code",
      "source": [
        "    # TODO: Load text image\n",
        "image_text = skimage.data.text()\n",
        "\n",
        "# TODO: Print image shape/dimension\n",
        "print('Shape of text image: {}'.format(image_text.shape))\n",
        "\n",
        "# TODO: Create visualization with figure size of 24x6 with 2 subplots\n",
        "fig = plt.figure(figsize = (24, 6))\n",
        "\n",
        "# TODO: Display the image in the first subplot\n",
        "ax = fig.add_subplot(2, 1, 1)\n",
        "ax.imshow(image_text)\n",
        "\n",
        "# Note: must use config_plot for full points\n",
        "config_plot()\n",
        "\n",
        "# TODO: Display the image using grayscale colormap in second subplot\n",
        "ax = fig.add_subplot(2, 1, 2)\n",
        "ax.imshow(image_text, cmap = \"gray\")\n",
        "\n",
        "plt.show()"
      ],
      "metadata": {
        "id": "ZYV_5EGeEvKy"
      },
      "execution_count": null,
      "outputs": []
    },
    {
      "cell_type": "markdown",
      "source": [
        "Visualize MRI volume of brain as grayscale images along the channel dimension"
      ],
      "metadata": {
        "id": "Gcb2TArNKvf1"
      }
    },
    {
      "cell_type": "code",
      "source": [
        "# TODO: Load MRI volume of brain\n",
        "mri_brain = skimage.data.brain()\n",
        "\n",
        "# TODO: Print MRI volume shape/dimension\n",
        "print('Shape of MRI volume of brain: {}'.format(mri_brain.shape))\n",
        "\n",
        "# TODO: Print min and max value of the image\n",
        "print('Min and max values of MRI volume: {}'.format(np.min(mri_brain), np.max(mri_brain)))\n",
        "\n",
        "# TODO: Create a 2x5 grid visualization with figure size of 40x16\n",
        "fig = plt.figure(figsize = (40, 16))\n",
        "\n",
        "# TODO: Iterate over the MRI volume and display each slice (image) using grayscale colormap\n",
        "for i in range(2):\n",
        "  for j in range(5):\n",
        "    pass\n",
        "\n",
        "for imageIndex in range(mri_brain.shape[0]):\n",
        "  image_slice = mri_brain[imageIndex, ...]\n",
        "  ax = fig.add_subplot(2, 5, imageIndex + 1) #mathplotlib is not 0 indexed!!!\n",
        "  ax.imshow(image_slice, cmap = 'gray')\n",
        "  config_plot()\n",
        "\n",
        "plt.show()\n"
      ],
      "metadata": {
        "id": "yB29ajtrK8sQ"
      },
      "execution_count": null,
      "outputs": []
    },
    {
      "cell_type": "markdown",
      "source": [
        "Visualize the full and 80% center crop of Chelsea"
      ],
      "metadata": {
        "id": "KE1ZLr4jDS5Q"
      }
    },
    {
      "cell_type": "code",
      "source": [
        "# TODO: Load Chelsea image\n",
        "image_chelsea = skimage.data.chelsea()\n",
        "\n",
        "print('Shape of Chelsea Image: {}'.format(image_chelsea.shape))\n",
        "\n",
        "# TODO: Compute start and end crop locations for x and y directions for 80%\n",
        "crop_y_start = int(image_chelsea.shape[1]*0.1)\n",
        "crop_y_end = int(image_chelsea.shape[1]*0.9)\n",
        "crop_x_start = int(image_chelsea.shape[0]*0.1)\n",
        "crop_x_end = int(image_chelsea.shape[0]*0.9)\n",
        "\n",
        "# TODO: Perform 80% center crop on Chelsea image\n",
        "image_chelsea_crop = image_chelsea[crop_x_start:crop_x_end, crop_y_start : crop_y_end,:]\n",
        "\n",
        "# TODO: Create a 1x2 grid visualization with figure size of 32x24\n",
        "fig = plt.figure(figsize=(32, 24))\n",
        "ax = fig.add_subplot(1, 2, 1)\n",
        "ax.imshow(image_chelsea)\n",
        "\n",
        "ax = fig.add_subplot(1, 2, 2)\n",
        "ax.imshow(image_chelsea_crop)\n",
        "\n",
        "plt.show()"
      ],
      "metadata": {
        "id": "bbm6GCZKHKxl"
      },
      "execution_count": null,
      "outputs": []
    },
    {
      "cell_type": "markdown",
      "source": [
        "Shifting and resizing a grayscale Astronaut"
      ],
      "metadata": {
        "id": "UdZaMU90qYQF"
      }
    },
    {
      "cell_type": "code",
      "source": [
        "def resample_from_image(image_src, image_tgt, xy_src, xy_tgt):\n",
        "    '''\n",
        "    Resample target image from source image\n",
        "\n",
        "    TODO: Refactor resampling code into this function and use it below\n",
        "\n",
        "    Arg(s):\n",
        "        image_src : numpy[float32]\n",
        "            H x W image\n",
        "        image_tgt : numpy[float32]\n",
        "            h x w image to be populated\n",
        "        xy_src : numpy[float32]\n",
        "            N x 2 coordinates corresponding to source image\n",
        "        xy_tgt : numpy[float32]\n",
        "            N x 2 coordinates corresponding to target image\n",
        "    Returns:\n",
        "        numpy[float32] : resampled image\n",
        "    '''\n",
        "\n",
        "    # TODO: Get height and width of image\n",
        "    n_height, n_width = image_src.shape\n",
        "\n",
        "    # TODO: Iterate through each coordinate and resample from the original image\n",
        "    for uv, uv_translated in zip(xy_src.transpose(), xy_tgt.transpose()):\n",
        "      #Convert to int for pixels\n",
        "      uv = uv.astype(np.int32)\n",
        "      uv_translated = uv_translated.astype(np.int32)\n",
        "\n",
        "      u, v = uv\n",
        "      u_trans, v_trans = uv_translated\n",
        "\n",
        "      if not (u_trans >= n_width or v_trans >= n_height or u_trans < 0 or v_trans < 0):\n",
        "        image_tgt[v_trans, u_trans] = image_src[v, u]\n",
        "\n",
        "    return image_tgt"
      ],
      "metadata": {
        "id": "krSkP1NlqYyF"
      },
      "execution_count": 7,
      "outputs": []
    },
    {
      "cell_type": "code",
      "source": [
        "# TODO: Load astronaunt image\n",
        "image_astronaut = skimage.data.astronaut();\n",
        "\n",
        "# TODO: Convert astronaunt image to gray\n",
        "image_astronaut = skimage.color.rgb2gray(image_astronaut)\n",
        "\n",
        "n_height, n_width = image_astronaut.shape\n",
        "\n",
        "# TODO: Define a coordinate plane (meshgrid) with the same size as the image\n",
        "x_grid, y_grid = np.meshgrid(range(n_width), range(n_height), indexing = 'xy')\n",
        "\n",
        "# TODO: Stack x and y coordinates together\n",
        "xy_grid = np.stack([x_grid, y_grid], axis = 0).astype(np.float32)\n",
        "\n",
        "# TODO: Convert the coordinates to homogeneous form and reshape to 3 x N points\n",
        "ones = np.expand_dims(np.ones_like(x_grid), axis = 0)\n",
        "xy_grid_h = np.concatenate([xy_grid, ones], axis = 0)\n",
        "xy_h = np.reshape(xy_grid_h, (3, -1))\n",
        "\n",
        "# TODO: Shift the origin to the center of the image\n",
        "x_offset = n_width / 2\n",
        "y_offset = n_height / 2\n",
        "\n",
        "xy_h_centered = xy_h.copy()\n",
        "xy_h_centered[0, ...] -= x_offset\n",
        "xy_h_centered[1, ...] -= y_offset\n",
        "\n",
        "# TODO: Define a translation matrix by 100 pixels to the right and 100 pixels upward\n",
        "translation_matrix = np.array([[1, 0, 100], [0, 1, 100], [0, 0, 1]], dtype = np.float32)\n",
        "\n",
        "# TODO: Transform the coordinates with translation matrix\n",
        "xy_h_translated = np.matmul(translation_matrix, xy_h_centered)\n",
        "\n",
        "# TODO: Shift the origin of the shifted coordinates back to top left corner\n",
        "xy_h_translated[0, ...] += x_offset\n",
        "xy_h_translated[1, ...] += y_offset\n",
        "\n",
        "# TODO: Convert coordinates back to inhomogenous form\n",
        "xy_translated = xy_h_translated[0:2, ...]\n",
        "\n",
        "# TODO: Define new image of 0s\n",
        "image_astronaut_translated = np.zeros_like(image_astronaut)\n",
        "\n",
        "# TODO: Iterate through each coordinate and resample from the original image\n",
        "image_astronaut_translated = resample_from_image(image_astronaut, image_astronaut_translated, xy_h[0:2,...], xy_translated)\n",
        "\n",
        "# Note: for full points, must implement and use resample_from_image\n",
        "#image_astronaut_translated =\n",
        "\n",
        "# TODO: Define rotation matrix of 45 degrees\n",
        "rotation_matrix = np.array([[np.cos(45 * np.pi/180), -np.sin(45 * np.pi/180), 0], [np.sin(45 * np.pi/180), np.cos(45 * np.pi/180), 0], [0, 0, 1]], dtype = np.float32)\n",
        "\n",
        "# TODO: Transform the coordinates with rotation matrix\n",
        "xy_h_rotated = np.matmul(rotation_matrix, xy_h_centered)\n",
        "\n",
        "# TODO: Shift the origin of the shifted coordinates back to top left corner\n",
        "xy_h_rotated[0, ...] += x_offset\n",
        "xy_h_rotated[1, ...] += y_offset\n",
        "\n",
        "# TODO: Convert coordinates back to inhomogenous form\n",
        "xy_rotated = xy_h_rotated[0:2, ...]\n",
        "\n",
        "# TODO: Define new image of 0s\n",
        "image_astronaut_rotated = np.zeros_like(image_astronaut)\n",
        "\n",
        "# TODO: Iterate through each coordinate and resample from the original image\n",
        "\n",
        "# Note: for full points, must implement and use resample_from_image\n",
        "image_astronaut_rotated = resample_from_image(image_astronaut, image_astronaut_rotated, xy_h[0:2, ...], xy_rotated)\n",
        "\n",
        "# TODO: Create a 1x3 grid visualization with figure size of 24x32\n",
        "fig = plt.figure(figsize = (24, 32))\n",
        "\n",
        "# TODO: Display grayscale image in the first subplot\n",
        "ax = fig.add_subplot(1, 3, 1)\n",
        "ax.imshow(image_astronaut, cmap = 'gray')\n",
        "\n",
        "# TODO: Display translated grayscale image in the second subplot\n",
        "ax = fig.add_subplot(1, 3, 2)\n",
        "ax.imshow(image_astronaut_translated, cmap = 'gray')\n",
        "\n",
        "# TODO: Display rotated grayscale image in the third subplot\n",
        "ax = fig.add_subplot(1, 3, 3)\n",
        "ax.imshow(image_astronaut_rotated, cmap = 'gray')\n",
        "\n",
        "plt.show()"
      ],
      "metadata": {
        "id": "Ty1E_sqTqhPT"
      },
      "execution_count": null,
      "outputs": []
    }
  ]
}
